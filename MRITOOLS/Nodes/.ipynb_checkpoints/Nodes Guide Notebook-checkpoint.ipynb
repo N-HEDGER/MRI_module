{
 "cells": [
  {
   "cell_type": "markdown",
   "metadata": {},
   "source": [
    "# fMRI tools: Nodes\n",
    "![alt text](https://www.python.org/static/favicon.ico \"Title\")\n",
    "## General instructions\n",
    "To access these tools:\n",
    "1. Open the terminal\n",
    "2. Type *ipython* to load the ipython terminal\n",
    "***\n",
    "## Index\n",
    "| Node | Phase | Description | Apply to |\n",
    "| --- | --- | --- | --- |\n",
    "| [Converter](#converter) | 1 | Converts a directory of DICOM files to nifti format | Structural or Functional Data |\n",
    "| [Extracter](#extracter) | 2 | Remove non-brain tissue | Structural or Functional Data |\n",
    "| [Register](#register) | >2 | Register image to MNI 152 space | Structural or Functional Data |\n",
    "| [SpaceRealigner](#spacerealigner)| 3 | Motion correct data | Functional Data |\n",
    "| [TimeRealigner](#timerealigner) | 4 | Slice-time correct data | Functional Data |\n",
    "| [Smoother](#smoother) | 5 | Smooth data | Functional Data |\n",
    "***\n",
    "\n",
    "<a id='converter'></a>\n",
    "### Converter\n"
   ]
  },
  {
   "cell_type": "markdown",
   "metadata": {},
   "source": [
    "| Inputs | Outputs | Dependencies |\n",
    "| --- | --- |\n",
    "| Directory containing DICOM files | /CONVERTED /REORIENTED /CROPPED | dcm2nii, fsl, nipype, nilearn, matplotlib |\n",
    "\n",
    "This function converts raw DICOM files to nifti format.\n",
    "DICOM files are converted to nifti, reoriented to MNI 152 space and cropped to remove neck tissue. \n",
    "\n",
    "To call this function, in the ipython terminal type:"
   ]
  },
  {
   "cell_type": "code",
   "execution_count": null,
   "metadata": {
    "collapsed": true
   },
   "outputs": [],
   "source": [
    "run CONVERTER"
   ]
  },
  {
   "cell_type": "markdown",
   "metadata": {},
   "source": [
    "You will be prompted to input a directory containing the DICOM folders you wish to convert. To do this, navigate to the directory in the finder/ file explorer, drag it into the terminal and press enter.\n",
    "\n",
    "A new directory will be created in the input directory called *'CONVERTER'* containing the outputs.\n",
    "\n",
    "/ CONVERTED - Converted file\n",
    "\n",
    "/ REORIENTED - Converted and reoriented file\n",
    "\n",
    "/ CROPPED - Cropped file (note that cropped files should only be used for structural images).\n",
    "\n",
    "The converted, reoriented nifti file is plotted to force check the result. \n",
    "***\n",
    "<a id='extracter'></a>\n",
    "### Extracter\n",
    "| Inputs | Outputs | Dependencies |\n",
    "| --- | --- |\n",
    "***\n",
    "<a id='register'></a>\n",
    "### Register\n",
    "| Inputs | Outputs | Dependencies |\n",
    "| --- | --- |\n",
    "***\n",
    "<a id='spacerealigner'></a>\n",
    "### SpaceRealigner\n",
    "| Inputs | Outputs | Dependencies |\n",
    "| --- | --- |\n",
    "***\n",
    "\n",
    "<a id='timerealigner'></a>\n",
    "### TimeRealigner\n",
    "| Inputs | Outputs | Dependencies |\n",
    "| --- | --- |\n",
    "***\n",
    "\n",
    "<a id='smoother'></a>\n",
    "### Smoother\n",
    "| Inputs | Outputs | Dependencies |\n",
    "| --- | --- |\n",
    "***\n",
    "\n",
    "\n",
    "\n",
    "\n",
    "\n",
    "\n"
   ]
  },
  {
   "cell_type": "markdown",
   "metadata": {},
   "source": []
  }
 ],
 "metadata": {
  "kernelspec": {
   "display_name": "Python 2",
   "language": "python",
   "name": "python2"
  },
  "language_info": {
   "codemirror_mode": {
    "name": "ipython",
    "version": 2
   },
   "file_extension": ".py",
   "mimetype": "text/x-python",
   "name": "python",
   "nbconvert_exporter": "python",
   "pygments_lexer": "ipython2",
   "version": "2.7.12"
  }
 },
 "nbformat": 4,
 "nbformat_minor": 0
}
